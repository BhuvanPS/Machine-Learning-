{
 "cells": [
  {
   "cell_type": "code",
   "execution_count": null,
   "metadata": {},
   "outputs": [],
   "source": [
    "import pandas as pd"
   ]
  },
  {
   "cell_type": "code",
   "execution_count": 33,
   "metadata": {},
   "outputs": [
    {
     "data": {
      "text/plain": [
       "(398946, 16)"
      ]
     },
     "execution_count": 33,
     "metadata": {},
     "output_type": "execute_result"
    }
   ],
   "source": [
    "df  = pd.read_csv(\"microclimate-sensors-data.csv\")\n",
    "df.shape"
   ]
  },
  {
   "cell_type": "code",
   "execution_count": 23,
   "metadata": {},
   "outputs": [
    {
     "name": "stdout",
     "output_type": "stream",
     "text": [
      "Device_id: 0 missing entries\n",
      "Time: 0 missing entries\n",
      "SensorLocation: 6143 missing entries\n",
      "LatLong: 11483 missing entries\n",
      "MinimumWindDirection: 40111 missing entries\n",
      "AverageWindDirection: 504 missing entries\n",
      "MaximumWindDirection: 40269 missing entries\n",
      "MinimumWindSpeed: 40269 missing entries\n",
      "AverageWindSpeed: 504 missing entries\n",
      "GustWindSpeed: 40269 missing entries\n",
      "AirTemperature: 504 missing entries\n",
      "RelativeHumidity: 504 missing entries\n",
      "AtmosphericPressure: 504 missing entries\n",
      "PM25: 19039 missing entries\n",
      "PM10: 19039 missing entries\n",
      "Noise: 19039 missing entries\n"
     ]
    }
   ],
   "source": [
    "missing_entries = df.isnull().sum()\n",
    "for col,count in missing_entries.items():\n",
    "    print(f\"{col}: {count} missing entries\")"
   ]
  },
  {
   "cell_type": "code",
   "execution_count": 24,
   "metadata": {},
   "outputs": [],
   "source": [
    "df_new = df.copy()"
   ]
  },
  {
   "cell_type": "code",
   "execution_count": 25,
   "metadata": {},
   "outputs": [
    {
     "name": "stdout",
     "output_type": "stream",
     "text": [
      "{'1 Treasury Place': '-37.8128595, 144.9745395', '101 Collins St L11 Rooftop': '-37.814604, 144.9702991', 'Batman Park': '-37.8221828, 144.9562225', 'Birrarung Marr Park - Pole 1131': '-37.8185931, 144.9716404', 'CH1 rooftop': '-37.8140348, 144.96728', 'Enterprize Park - Pole ID: COM1667': '-37.8204083, 144.9591192', 'Royal Park Asset ID: COM2707': '-37.7956167, 144.9519007', \"SkyFarm (Jeff's Shed). Rooftop - Melbourne Conference & Exhibition Centre (MCEC)\": '-37.8223306, 144.9521696', 'Swanston St - Tram Stop 13 adjacent Federation Sq & Flinders St Station': '-37.8184515, 144.9678474', 'Tram Stop 7B - Melbourne Tennis Centre Precinct - Rod Laver Arena': '-37.8194993, 144.9787211', 'Tram Stop 7C - Melbourne Tennis Centre Precinct - Rod Laver Arena': '-37.8222341, 144.9829409'}\n"
     ]
    }
   ],
   "source": [
    "locToLatlongMap = (\n",
    "    df[df['LatLong'].notnull()]\n",
    "    .groupby('SensorLocation')['LatLong']\n",
    "    .first()\n",
    "    .to_dict()\n",
    ")\n",
    "\n",
    "print(locToLatlongMap)"
   ]
  },
  {
   "cell_type": "code",
   "execution_count": null,
   "metadata": {},
   "outputs": [],
   "source": [
    "rows_to_drop = df_new['SensorLocation'].isnull() & df_new['LatLong'].isnull()\n",
    "\n",
    "df_cleaned = df_new[~rows_to_drop].copy()"
   ]
  },
  {
   "cell_type": "code",
   "execution_count": 29,
   "metadata": {},
   "outputs": [
    {
     "name": "stdout",
     "output_type": "stream",
     "text": [
      "0\n",
      "5340\n"
     ]
    }
   ],
   "source": [
    "print(df_cleaned['SensorLocation'].isnull().sum())\n",
    "\n",
    "print(df_cleaned['LatLong'].isnull().sum())\n"
   ]
  },
  {
   "cell_type": "code",
   "execution_count": 30,
   "metadata": {},
   "outputs": [
    {
     "name": "stdout",
     "output_type": "stream",
     "text": [
      "0\n"
     ]
    }
   ],
   "source": [
    "df_cleaned['LatLong'] = df_cleaned.apply(\n",
    "    lambda row:locToLatlongMap[row['SensorLocation']] if pd.isnull(row['LatLong']) else row['LatLong'],\n",
    "    axis=1\n",
    ")\n",
    "print(df_cleaned['LatLong'].isnull().sum())"
   ]
  },
  {
   "cell_type": "code",
   "execution_count": 34,
   "metadata": {},
   "outputs": [
    {
     "name": "stdout",
     "output_type": "stream",
     "text": [
      "Device_id: 0 missing entries\n",
      "Time: 0 missing entries\n",
      "SensorLocation: 0 missing entries\n",
      "LatLong: 0 missing entries\n",
      "MinimumWindDirection: 39852 missing entries\n",
      "AverageWindDirection: 352 missing entries\n",
      "MaximumWindDirection: 40010 missing entries\n",
      "MinimumWindSpeed: 40010 missing entries\n",
      "AverageWindSpeed: 352 missing entries\n",
      "GustWindSpeed: 40010 missing entries\n",
      "AirTemperature: 352 missing entries\n",
      "RelativeHumidity: 352 missing entries\n",
      "AtmosphericPressure: 352 missing entries\n",
      "PM25: 18839 missing entries\n",
      "PM10: 18839 missing entries\n",
      "Noise: 18839 missing entries\n"
     ]
    },
    {
     "data": {
      "text/plain": [
       "(392803, 16)"
      ]
     },
     "execution_count": 34,
     "metadata": {},
     "output_type": "execute_result"
    }
   ],
   "source": [
    "missing_entries = df_cleaned.isnull().sum()\n",
    "for col,count in missing_entries.items():\n",
    "    print(f\"{col}: {count} missing entries\")\n",
    "df_cleaned.shape"
   ]
  }
 ],
 "metadata": {
  "kernelspec": {
   "display_name": "base",
   "language": "python",
   "name": "python3"
  },
  "language_info": {
   "codemirror_mode": {
    "name": "ipython",
    "version": 3
   },
   "file_extension": ".py",
   "mimetype": "text/x-python",
   "name": "python",
   "nbconvert_exporter": "python",
   "pygments_lexer": "ipython3",
   "version": "3.12.2"
  }
 },
 "nbformat": 4,
 "nbformat_minor": 2
}
